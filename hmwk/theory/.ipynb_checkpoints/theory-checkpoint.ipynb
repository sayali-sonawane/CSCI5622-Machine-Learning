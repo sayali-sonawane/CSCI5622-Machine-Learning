{
 "cells": [
  {
   "cell_type": "markdown",
   "metadata": {},
   "source": [
    "# Learning Theory Homework \n",
    "***\n",
    "**Name**: $<$Sayali Sonawane$>$ \n",
    "***\n",
    "\n",
    "This assignment is due on Moodle by **5pm on Friday March 9th**. Submit only this Jupyter notebook to Moodle. Do not compress it using tar, rar, zip, etc. Your solutions to analysis questions should be done in Markdown directly below the associated question.  Remember that you are encouraged to discuss the problems with your instructors and classmates, but **you must write all code and solutions on your own**.  For a refresher on the course **Collaboration Policy** click [here](https://github.com/chrisketelsen/CSCI5622-Machine-Learning/blob/master/resources/syllabus.md#collaboration-policy)\n",
    "\n"
   ]
  },
  {
   "cell_type": "markdown",
   "metadata": {},
   "source": [
    "## Overview \n",
    "***\n",
    "\n",
    "In this assignment you will explore the concepts of PAC learnability and VC dimension. \n"
   ]
  },
  {
   "cell_type": "markdown",
   "metadata": {},
   "source": [
    "### [15 points] Problem 1: \n",
    "***\n",
    "\n",
    "Consider the class C of concepts defined by triangles with **distinct** vertices of the form $(i, j)$ where $i$ and $j$ are integers in the interval $[0,99]$. A concept c labels points on the interior and boundary of the associated triangle as positive and points exterior to the triangle as negative.\n",
    "\n",
    "**Note**: To make life easier, we'll allow degenerate triangles in $C$. That is, triangles where the vertices are collinear. The following image depicts an example of a nondegenerate and a degenerate triangle."
   ]
  },
  {
   "cell_type": "markdown",
   "metadata": {},
   "source": [
    "<img src=\"figs/triangles.png\" width=400 height=50>  "
   ]
  },
  {
   "cell_type": "markdown",
   "metadata": {},
   "source": [
    "**Part A**: Suppose we have an algorithm that produces a consistent $h$ from the hypothesis class $H = C$. Give a bound on the number of training examples sufficient to assure that for any target concept $c$ in $C$, our algorithm will, with probability $1-\\delta$, output a hypothesis $h$ with generalization error at most $\\epsilon$."
   ]
  },
  {
   "cell_type": "code",
   "execution_count": 2,
   "metadata": {},
   "outputs": [
    {
     "data": {
      "text/latex": [
       "$$m \\geq \\frac{1}{\\epsilon} (ln |H| + ln(\\frac{1}{\\delta}))$$"
      ],
      "text/plain": [
       "<IPython.core.display.Math object>"
      ]
     },
     "execution_count": 2,
     "metadata": {},
     "output_type": "execute_result"
    }
   ],
   "source": [
    "from IPython.display import Math\n",
    "from IPython.display import Latex\n",
    "Math(r'm \\geq \\frac{1}{\\epsilon} (ln |H| + ln(\\frac{1}{\\delta}))')\n"
   ]
  },
  {
   "cell_type": "code",
   "execution_count": 3,
   "metadata": {},
   "outputs": [
    {
     "name": "stdout",
     "output_type": "stream",
     "text": [
      "Below is the equation for bound on training examples for given error and confidance. There are 10000 points to choose from to create a triangle.Let's say no. of triangles which is hypotheses set is H 'without replacement'\n"
     ]
    },
    {
     "data": {
      "text/latex": [
       "\\begin{eqnarray} \n",
       "m \\geq \\frac{1}{\\epsilon} (ln |H| + ln(\\frac{1}{\\delta})) \\\\\n",
       "H = \\\\\n",
       "{10000}\\choose{3}\n",
       "\\end{eqnarray}"
      ],
      "text/plain": [
       "<IPython.core.display.Latex object>"
      ]
     },
     "execution_count": 3,
     "metadata": {},
     "output_type": "execute_result"
    }
   ],
   "source": [
    "\n",
    "print(\"Below is the equation for bound on training examples for given error and confidance. \" +\n",
    "      \"There are 10000 points to choose from to create a triangle.\" + \n",
    "      \"Let's say no. of triangles which is hypotheses set is H 'without replacement'\")\n",
    "Latex(r\"\"\"\\begin{eqnarray} \n",
    "m \\geq \\frac{1}{\\epsilon} (ln |H| + ln(\\frac{1}{\\delta})) \\\\\n",
    "H = \\\\\n",
    "{10000}\\choose{3}\n",
    "\\end{eqnarray}\"\"\")\n",
    "\n"
   ]
  },
  {
   "cell_type": "markdown",
   "metadata": {},
   "source": [
    "**Part B**: Based on your bound in **Part A**, determine the minimum number of training examples necessary such that for any target concept $c$ in $C$, our algorithm will, with probability $0.95$, output a hypothesis $h$ with generalization error at most $0.15$.  "
   ]
  },
  {
   "cell_type": "code",
   "execution_count": 31,
   "metadata": {},
   "outputs": [
    {
     "name": "stdout",
     "output_type": "stream",
     "text": [
      "Plugging epsilon = 0.15 and delta = 0.05 and number of hypotheses = 166616670000\n",
      " Lower bound on training examples is 193.\n"
     ]
    },
    {
     "data": {
      "text/latex": [
       "\\begin{eqnarray} \n",
       "m \\geq \\frac{1}{0.15} (ln ( 166616670000) + ln(\\frac{1}{0.05})) \\\\\n",
       "m \\geq 192.23 \\\\\n",
       "m \\geq 193\n",
       "\\end{eqnarray}"
      ],
      "text/plain": [
       "<IPython.core.display.Latex object>"
      ]
     },
     "execution_count": 31,
     "metadata": {},
     "output_type": "execute_result"
    }
   ],
   "source": [
    "print(\"Plugging epsilon = 0.15 and delta = 0.05 and number of hypotheses = 166616670000\"+\n",
    "     \"\\n Lower bound on training examples is 193.\")\n",
    "\n",
    "Latex(r\"\"\"\\begin{eqnarray} \n",
    "m \\geq \\frac{1}{0.15} (ln ( 166616670000) + ln(\\frac{1}{0.05})) \\\\\n",
    "m \\geq 192.23 \\\\\n",
    "m \\geq 193\n",
    "\\end{eqnarray}\"\"\")\n"
   ]
  },
  {
   "cell_type": "markdown",
   "metadata": {},
   "source": [
    "### [15 points] Problem 2: \n",
    "***\n",
    "\n",
    "Consider feature vectors that live in two-dimensional space and the class of hypotheses defined by circles **centered at the origin**. There are two different kinds of hypotheses $h$ in this class. One type of hypthesis classifies points as positive if they lie on the boundary or **interior** of the circle, and negative otherwise. The other type of hypothesis classifies points as positive if they lie on the boundary or **exterior** of the circle, and negative otherwise. State and prove (rigorously) the VC dimension of this family of classifiers."
   ]
  },
  {
   "cell_type": "code",
   "execution_count": 26,
   "metadata": {},
   "outputs": [
    {
     "name": "stdout",
     "output_type": "stream",
     "text": [
      "First we prove for 2 points. We need to prove that the given hypothesis shatters 2 points completely. \n",
      " \n",
      "\n"
     ]
    },
    {
     "data": {
      "text/latex": [
       "\\begin{array}{|cc|}\n",
       "\\hline \n",
       "x_1 & x_2 & \\\\ \n",
       "\\hline \n",
       "(+ & + ) & (+ +) \\\\\n",
       "(- & + ) & -(+)\\\\\n",
       "(+ & -) & (+)-\\\\\n",
       "(- & -) & ()-- \\\\\n",
       "\n",
       "& & \\\\\n",
       "\\hline \n",
       "\\end{array}"
      ],
      "text/plain": [
       "<IPython.core.display.Latex object>"
      ]
     },
     "execution_count": 26,
     "metadata": {},
     "output_type": "execute_result"
    }
   ],
   "source": [
    "print(\"First we prove for 2 points. We need to prove that the given hypothesis shatters 2 points completely. \\n \\n\")\n",
    "\n",
    "Latex(r\"\"\"\\begin{array}{|cc|}\n",
    "\\hline \n",
    "x_1 & x_2 & \\\\ \n",
    "\\hline \n",
    "(+ & + ) & (+ +) \\\\\n",
    "(- & + ) & -(+)\\\\\n",
    "(+ & -) & (+)-\\\\\n",
    "(- & -) & ()-- \\\\\n",
    "\n",
    "& & \\\\\n",
    "\\hline \n",
    "\\end{array}\"\"\")\n",
    "\n",
    "\n"
   ]
  },
  {
   "cell_type": "code",
   "execution_count": 29,
   "metadata": {},
   "outputs": [
    {
     "name": "stdout",
     "output_type": "stream",
     "text": [
      "Above table shows for all possible combinations of + and - examples. Round brackets show that a circle will include or exlude the points. A circle can totally shatter 2 points. This is true for both hypotheses discussed, when inside of circle is + and -. \n",
      " VCDim >= 2\n",
      "Now let's prove for 3 points, \n",
      " \n",
      "\n"
     ]
    },
    {
     "data": {
      "text/latex": [
       "\\begin{array}{|ccc|}\n",
       "\\hline \n",
       "x_1 & x_2 & x_3 &\\\\ \n",
       "\\hline \n",
       "(+ & + & +) & (+ + +) \\\\\n",
       "(+ & + & -) & (+ +) -\\\\\n",
       "(+ & - & +) &  \\\\\n",
       "(+ & - & -) & (+)-- \\\\\n",
       "(- & + & +) & - (+ +) \\\\\n",
       "(- & + & -) &  \\\\\n",
       "(- & - & +) & --(+)\\\\\n",
       "(- & - & -) & ()--- \\\\\n",
       "\n",
       "& & \\\\\n",
       "\\hline \n",
       "\\end{array}"
      ],
      "text/plain": [
       "<IPython.core.display.Latex object>"
      ]
     },
     "execution_count": 29,
     "metadata": {},
     "output_type": "execute_result"
    }
   ],
   "source": [
    "print(\"Above table shows for all possible combinations of + and - examples. Round brackets show that a circle \"+\n",
    "     \"will include or exlude the points. A circle can totally shatter 2 points. This is true for both \"+\n",
    "     \"hypotheses discussed, when inside of circle is + and -. \\n VCDim >= 2\\n\"+\n",
    "     \"Now let's prove for 3 points, \\n \\n\")\n",
    "\n",
    "Latex(r\"\"\"\\begin{array}{|ccc|}\n",
    "\\hline \n",
    "x_1 & x_2 & x_3 &\\\\ \n",
    "\\hline \n",
    "(+ & + & +) & (+ + +) \\\\\n",
    "(+ & + & -) & (+ +) -\\\\\n",
    "(+ & - & +) &  \\\\\n",
    "(+ & - & -) & (+)-- \\\\\n",
    "(- & + & +) & - (+ +) \\\\\n",
    "(- & + & -) &  \\\\\n",
    "(- & - & +) & --(+)\\\\\n",
    "(- & - & -) & ()--- \\\\\n",
    "\n",
    "& & \\\\\n",
    "\\hline \n",
    "\\end{array}\"\"\")"
   ]
  },
  {
   "cell_type": "code",
   "execution_count": 32,
   "metadata": {},
   "outputs": [
    {
     "name": "stdout",
     "output_type": "stream",
     "text": [
      "From above table we can see that 3 linear points can't be shattered for all possible combinations. Which is true for both hypotheses. \n",
      " Hence, VCDim < 3. \n",
      " Hence, VCDim = 2.\n"
     ]
    }
   ],
   "source": [
    "print(\"From above table we can see that 3 linear points can't be shattered for all possible combinations. Which is true for \"+\n",
    "     \"both hypotheses. \\n Hence, VCDim < 3. \\n Hence, VCDim = 2.\")"
   ]
  },
  {
   "cell_type": "markdown",
   "metadata": {},
   "source": [
    "### [20 points] Problem 3: Empirical Verification of PAC Bounds for Axis-Aligned Rectangles \n",
    "***\n",
    "\n",
    "In the in-class notebook associated with PAC Learnability, we proved a PAC bound for the class of concepts $C$ comprised of axis-aligned rectangles living in $\\mathbb{R}^2$ of the form $(a \\leq x \\leq b) \\wedge (c \\leq y \\leq d)$ where $a, b, c, d$ are real numbers. Specifically, we proved that with probability $1-\\delta$, any consistent learner could learn a hypothesis $h$ in $H = C$ with generalization error less than $\\epsilon$ provided that the number of training examples satisfied \n",
    "\n",
    "$$\n",
    "m > \\frac{4}{\\epsilon}\\log\\frac{4}{\\delta}\n",
    "$$\n",
    "\n",
    "In this problem you will empirically verify this bound for the restricted concept class $C$ where the rectangles are defined by $(a \\leq x \\leq b) \\wedge (c \\leq y \\leq d)$ where $a, b, c, d$ are real numbers satisfying $0 \\leq a \\leq b \\leq 100$ and $0 \\leq c \\leq d \\leq 100$. \n",
    "\n",
    "**Part A**: The following is a general outline of how you should accomplish this, but it is up to you how you organize your code. "
   ]
  },
  {
   "cell_type": "markdown",
   "metadata": {},
   "source": [
    "- Write some code that randomly generates a concept rectangle $c$. \n",
    "\n",
    "\n",
    "\n",
    "- Write some code that, given feature vectors of length-2, labels them according to some rectangle (that is, labels a point positive if the point is on the boundary or interior of the rectangle, and negative otherwise).  \n",
    "\n",
    "\n",
    "\n",
    "- Write some code that, given training examples of length-2, and labeled according to a concept $c$, returns a consistent hypothesis rectangle $h$. \n",
    "\n",
    "\n",
    "\n",
    "- Write some code that generates a training set of size $m$, labels them according to a random concept $c$, learns a consistent hypothesis $h$, and then approximates the generalization error by predicting on $1000$ new examples from the same distribution as the training data. \n",
    "\n",
    "\n",
    "- Write some code that computes approximate generalization errors for $100$ independent concepts $c$ and associated training sets of size $m$, and returns the worst-case generalization error at the confidence level $1-\\delta$.  One way to do this in the case that say $\\delta = 0.05$, is to report the $95^\\textrm{th}$ percentile of the $100$ samples of the generalization error. We can then say that, in our simulation, $100(1-\\delta)\\%$ of our observed generalization errors were less than our computed value. (**Bonus**: If your code is efficient, try increasing the number of runs in the simulation to $500$. This should give you a better approximation of the generalization error.) "
   ]
  },
  {
   "cell_type": "code",
   "execution_count": 6,
   "metadata": {},
   "outputs": [
    {
     "data": {
      "text/plain": [
       "0.064000000000000001"
      ]
     },
     "execution_count": 6,
     "metadata": {},
     "output_type": "execute_result"
    }
   ],
   "source": [
    " hundredConcepts()"
   ]
  },
  {
   "cell_type": "markdown",
   "metadata": {
    "collapsed": true
   },
   "source": [
    "**Part B**: Use your code to estimate the generalization error with confidence parameter $\\delta=0.05$ for training sets of size $m$ where $m = 250, 500, 1000, 1250,$ and $1500$ and the data are comprised of points $(x,y)$ where the $x$- and $y$-values are sampled from the continuous uniform distribution $\\textrm{unif}(0,100)$. Make a **log-log** plot with $m$ on the horizontal axes and $\\epsilon$ on the vertical axis.  Additionally, overlay the theoretical PAC bound on your graph and discuss your results. "
   ]
  },
  {
   "cell_type": "code",
   "execution_count": 5,
   "metadata": {},
   "outputs": [
    {
     "name": "stdout",
     "output_type": "stream",
     "text": [
      "Generalization Error with uniform distribution\n",
      "[0.028049999999999957, 0.017000000000000001, 0.0080000000000000002, 0.0070000000000000001, 0.0060000000000000001]\n"
     ]
    },
    {
     "data": {
      "image/png": "[encoded data removed]",
      "text/plain": [
       "<matplotlib.figure.Figure at 0x7f3fb97efe80>"
      ]
     },
     "metadata": {},
     "output_type": "display_data"
    },
    {
     "name": "stdout",
     "output_type": "stream",
     "text": [
      "We observe theoretical error is more than generlaization error calculated from random simulation. One of the reasons mights be \n",
      "Theoretical error is calculated considering error is the same for all hypotheses and for all the examples. Which considers the worst case scenario for all hypotheses which is not true in random simulation. In random simulation, errors for each hypothesis is different, and might be less than the worst case error for some cases.\n",
      " Hence overall generalization error is less than theoretical error.\n"
     ]
    }
   ],
   "source": [
    "print(\"Generalization Error with uniform distribution\")\n",
    "conceptTraining()\n",
    "print(\"We observe theoretical error is more than generlaization error calculated from random simulation. \"+\n",
    "     \"One of the reasons mights be \\n\" +\n",
    "     \"Theoretical error is calculated considering error is the same for all hypotheses and for all the examples. \"+\n",
    "     \"Which considers the worst case scenario for all hypotheses which is not true in random simulation. \"+\n",
    "     \"In random simulation, errors for each hypothesis is different, and might be less than the worst case error for some cases.\"+\n",
    "     \"\\n Hence overall generalization error is less than theoretical error.\")"
   ]
  },
  {
   "cell_type": "markdown",
   "metadata": {
    "collapsed": true
   },
   "source": [
    "**Part C**: Repeat **Part B** where the data are comprised of points $(x,y)$ where the $x$- and $y$-values are sampled from the normal distribution with mean $\\mu = 50$ and standard deviation $\\sigma = 25$. Again, overlay the theoretical PAC bound on your graph and discuss your results. Do you expect to observe very different results than those observed in **Part B**?  "
   ]
  },
  {
   "cell_type": "code",
   "execution_count": 3,
   "metadata": {},
   "outputs": [
    {
     "name": "stdout",
     "output_type": "stream",
     "text": [
      "Generalization Error with normal distribution\n",
      "[0.027, 0.014999999999999999, 0.0080000000000000002, 0.0080000000000000002, 0.0060499999999999539]\n"
     ]
    },
    {
     "data": {
      "image/png": "[encoded data removed]",
      "text/plain": [
       "<matplotlib.figure.Figure at 0x7f3fc37ddb00>"
      ]
     },
     "metadata": {},
     "output_type": "display_data"
    },
    {
     "name": "stdout",
     "output_type": "stream",
     "text": [
      "The reason behind generalization error being less than theoretical error is same as above.\n",
      " \n",
      "The output for normal and uniform distribution is almost same. Very small variations are obsrved but the average values remain the same. The distribution doesn't affect the error because same distribution is used to draw the concept, hypothesis bounds and draw random training and test examples. Normal distribution is drawn for mean = 50 and SD = 25. So most of the examples are drawn in this region. If the concept is bounded in the dense region, the hypothesis is bounded near to the concept. Number of examples near concept and hypothesis are going to be more and error is calculated is the same. If the concept is drawn in the sparse region, hypothesis is near concept in the sparse region. Number of examples are less but error caclulated will be the same.\n"
     ]
    }
   ],
   "source": [
    "print(\"Generalization Error with normal distribution\")\n",
    "conceptTraining()\n",
    "print(\"The reason behind generalization error being less than theoretical error is same as above.\\n \\n\"+\n",
    "     \"The output for normal and uniform distribution is almost same. Very small variations are obsrved but the average values remain the same. \"+\n",
    "     \"The distribution doesn't affect the error because same distribution is used to draw the concept, hypothesis bounds and draw random training and test examples. \"+\n",
    "     \"Normal distribution is drawn for mean = 50 and SD = 25. So most of the examples are drawn in this region. \"+\n",
    "     \"If the concept is bounded in the dense region, the hypothesis is bounded near to the concept. Number of examples\"+\n",
    "     \" near concept and hypothesis are going to be more and error is calculated is the same. \"+\n",
    "     \"If the concept is drawn in the sparse region, hypothesis is near concept in the sparse region. Number of examples \"+\n",
    "     \"are less but error caclulated will be the same.\")"
   ]
  },
  {
   "cell_type": "code",
   "execution_count": 4,
   "metadata": {
    "collapsed": true
   },
   "outputs": [],
   "source": [
    "import numpy as np\n",
    "from matplotlib import pyplot as plt\n",
    "\n",
    "def getRandom(max):\n",
    "    \"\"\"\n",
    "    This method generates a random number from a given distribution and returns it.\n",
    "    :param max: max is used to get the range of random number. \n",
    "    \"\"\"\n",
    "    # Uniform Distribution\n",
    "    n = np.random.rand()*max\n",
    "    \n",
    "    # Normal distribution truncated to get values between 0 and 100\n",
    "#     n = 101\n",
    "#     while(n > 100 or n < 0):\n",
    "#         n = np.random.normal(loc=50, scale=25)\n",
    "\n",
    "    return n\n",
    "\n",
    "def generateConceptRectangle():\n",
    "    \"\"\"\n",
    "    This method creates a random concept by randomly choosing a, b, c, and d with given contraints.\n",
    "    \"\"\"\n",
    "    x = getRandom(100)\n",
    "    y = getRandom(100)\n",
    "    a = min(x,y)\n",
    "    b = max(x,y)\n",
    "    x = getRandom(100)\n",
    "    y = getRandom(100)\n",
    "    c = min(x,y)\n",
    "    d = max(x,y)\n",
    "    return (a,b,c,d)\n",
    "\n",
    "def featureVec(x, y, concept):\n",
    "    \"\"\"\n",
    "    This method creates labels for an example point given a concept. \n",
    "    If the point lies outside the concept, it return -1.\n",
    "    If the point lies on or inside the concept it returns 0.\n",
    "    :param x,y: example point\n",
    "    :param concept: random concept generated for current simulation. Holds a,b,c,d.\n",
    "    \"\"\"\n",
    "    if x >= concept[0] and x <= concept[1] and y >= concept[2] and y <= concept[3]:\n",
    "        return 1\n",
    "    else:\n",
    "        return -1\n",
    "\n",
    "def getLabels(examples, concept):\n",
    "    \"\"\"\n",
    "    This method creates a dictionary of list of examples and labels.\n",
    "    :param examples: list of examples to be labeled according concept\n",
    "    :param concept: concept or hypothesis randomly generated for current simulation\n",
    "    \"\"\"\n",
    "    hypo = {}\n",
    "    for e in examples:\n",
    "        hypo[e] = featureVec(e[0], e[1], concept)\n",
    "    return hypo\n",
    "\n",
    "# creating training and test examples with uniform distribution\n",
    "def createExamples(size):\n",
    "    \"\"\"\n",
    "    This method creates number of examples randomly with given distribution. \n",
    "    :param size: number provided to create that many examples\n",
    "    \"\"\"\n",
    "    examples = list()\n",
    "    for i in range(size):\n",
    "        x = getRandom(100)\n",
    "        y = getRandom(100)\n",
    "        examples.append((x,y))\n",
    "    return examples\n",
    "\n",
    "def createHypothesis(examples, concept):\n",
    "    \"\"\"\n",
    "    This method creates a hypothesis from given list of examples and concept.\n",
    "    Method searches for tightest bound possible around positive examples and returns the bound.\n",
    "    :param examples: list of examples used to create hypothesis using a cconcept\n",
    "    :param concept: concept randomly generated for current simulation\n",
    "    \"\"\"\n",
    "    labels = getLabels(examples, concept=concept)\n",
    "    positives = list()\n",
    "    negatives = list()\n",
    "    for key, value in labels.items():\n",
    "        if value < 0:\n",
    "            negatives.append(key)\n",
    "        else:\n",
    "            positives.append(key)\n",
    "\n",
    "    x_min = 101\n",
    "    y_min = 101\n",
    "    x_max = 0\n",
    "    y_max = 0\n",
    "\n",
    "    for p in positives:\n",
    "        if p[0] > x_max:\n",
    "            x_max = p[0]\n",
    "        if p[0] < x_min:\n",
    "            x_min = p[0]\n",
    "        if p[1] > y_max:\n",
    "            y_max = p[1]\n",
    "        if p[1] < y_min:\n",
    "            y_min = p[1]\n",
    "\n",
    "    if (not positives):\n",
    "        return (-1,-1,-1,-1)\n",
    "\n",
    "    return (x_min, x_max, y_min, y_max)\n",
    "\n",
    "def generalizationError(hypothesis, concept, test_examples):\n",
    "    \"\"\"\n",
    "    This method calculates the generalization error for examples given hypothesis and concept.\n",
    "    :param hypothesis: hypothesis created on the training examples for a given concept\n",
    "    :param concept: concept randomly generated for current simulation\n",
    "    :param test_examples: examples for which generalization error is calculated\n",
    "    \"\"\"\n",
    "    error = 0\n",
    "    for t in test_examples:\n",
    "        label_h = featureVec(t[0], t[1], concept=hypothesis)\n",
    "        label_c = featureVec(t[0], t[1], concept=concept)\n",
    "        if label_c != label_h:\n",
    "            error = error + 1\n",
    "\n",
    "    error = float(error)/float(len(test_examples))\n",
    "    return error\n",
    "\n",
    "def hundredConcepts():\n",
    "    \"\"\"\n",
    "    This method is run for 100 or 500 simulations to create independent concepts; creates hypothesis for given \n",
    "    concept and calculates generalization error for 1000 examples.\n",
    "    \"\"\"\n",
    "    error_list = list()\n",
    "    for i in range(500):\n",
    "        concept = generateConceptRectangle()\n",
    "        examples = createExamples(100)\n",
    "        hypothesis = createHypothesis(examples, concept)\n",
    "        test_examples = createExamples(1000)\n",
    "        error = generalizationError(hypothesis, concept=concept, test_examples=test_examples)\n",
    "        error_list.append(error)\n",
    "    # calculating 95th percentile of errors\n",
    "    per = np.percentile(error_list, q=95)\n",
    "    return per\n",
    "\n",
    "def theoretical_error(m):\n",
    "    \"\"\"\n",
    "    This method calculates theoretical error calculated from the given formula.\n",
    "    \"\"\"\n",
    "    epsilon = list()\n",
    "    for i in m:\n",
    "        e = (4.0/float(i))*np.log(80)\n",
    "        epsilon.append(np.log(e))\n",
    "    return epsilon\n",
    "\n",
    "def conceptTraining():\n",
    "    \"\"\"\n",
    "    This methos repeats the hundredConcepts() function for different training exmaple size.\n",
    "    Calculates generalization for each size of traning examples and plot it comparing the values with\n",
    "    theoretical values.\n",
    "    \"\"\"\n",
    "    m = [250, 500, 1000, 1250, 1500]\n",
    "    epsilon = list()\n",
    "    eps = list()\n",
    "    for j in m:\n",
    "        error_list = list()\n",
    "        for i in range(500):\n",
    "            concept = generateConceptRectangle()\n",
    "            examples = createExamples(j)\n",
    "            hypothesis = createHypothesis(examples, concept)\n",
    "            test_examples = createExamples(1000)\n",
    "            error = generalizationError(hypothesis, concept=concept, test_examples=test_examples)\n",
    "            error_list.append(error)\n",
    "        per = np.percentile(error_list, q=95)\n",
    "        log_per = np.log(per)\n",
    "        eps.append(per)\n",
    "        epsilon.append(log_per)\n",
    "    \n",
    "    # calculating theoretical error to compare it with generalization error\n",
    "    theoretical = theoretical_error(m)\n",
    "    m_alt = list()\n",
    "    print(eps)\n",
    "    for i in m:\n",
    "        m_alt.append(np.log(i))\n",
    "    # plotting both plots\n",
    "    plt.plot(m_alt, epsilon, label=\"Generalization Error\")\n",
    "    plt.plot(m_alt, theoretical, label=\"Theoretical Error\")\n",
    "    plt.xlabel(\"size of the training examples\")\n",
    "    plt.ylabel(\"error\")\n",
    "    plt.legend()\n",
    "    plt.show()"
   ]
  },
  {
   "cell_type": "code",
   "execution_count": null,
   "metadata": {
    "collapsed": true
   },
   "outputs": [],
   "source": []
  }
 ],
 "metadata": {
  "kernelspec": {
   "display_name": "Python 3",
   "language": "python",
   "name": "python3"
  },
  "language_info": {
   "codemirror_mode": {
    "name": "ipython",
    "version": 3
   },
   "file_extension": ".py",
   "mimetype": "text/x-python",
   "name": "python",
   "nbconvert_exporter": "python",
   "pygments_lexer": "ipython3",
   "version": "3.6.3"
  }
 },
 "nbformat": 4,
 "nbformat_minor": 2
}
