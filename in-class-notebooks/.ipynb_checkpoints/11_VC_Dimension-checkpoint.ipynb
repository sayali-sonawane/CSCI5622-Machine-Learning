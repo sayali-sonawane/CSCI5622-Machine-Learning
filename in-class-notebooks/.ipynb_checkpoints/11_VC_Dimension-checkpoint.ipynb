{
 "cells": [
  {
   "cell_type": "markdown",
   "metadata": {},
   "source": [
    "# Lecture 11: VC Dimension\n",
    "***\n",
    "\n",
    "<img src=\"figs/cogs.jpg\" width=1100 height=50>"
   ]
  },
  {
   "cell_type": "markdown",
   "metadata": {},
   "source": [
    "**Reminder**: *If the math type-setting looks funny, scroll down and shift-enter the single sell under Helper Functions*\n",
    "\n",
    "\n",
    "<br>\n",
    "<br>"
   ]
  },
  {
   "cell_type": "markdown",
   "metadata": {},
   "source": [
    "\n",
    "\n",
    "### Problem 1: VC Dimension of Hyperplanes Through the Origin \n",
    "***\n",
    "\n",
    "\n",
    "Consider the class of linear hyperplanes in the first quadrant of $\\mathbb{R}^2$ that pass through the origin where each hypothesis can be defined to classify points above/left or below/right of the hyperplane as positive.\n",
    "\n",
    "<img src=\"figs/planes2.png\" width=800 height=50>\n",
    "\n",
    "**Q**: State and prove the VC Dimension of this hypothesis class. \n",
    "\n",
    "\n"
   ]
  },
  {
   "cell_type": "markdown",
   "metadata": {},
   "source": [
    "\n",
    "<br>\n",
    "<br>\n",
    "\n",
    "### Problem 2: VC Dimension of Union of Two Intervals \n",
    "***\n",
    "\n",
    "**Q**: State and prove the VC Dimension of unions of two intervals on the real line.  A classifier  in this class associated with the union $[a, b] \\cup [c, d]$ classifies a point $x$ as positive if $x \\in [a,b] \\cup [c,d]$ and negative otherwise. \n"
   ]
  },
  {
   "cell_type": "markdown",
   "metadata": {},
   "source": [
    "\n",
    "<br>\n",
    "<br>\n",
    "\n",
    "### Problem 3: VC Dimension of Linear Classifiers in $\\mathbb{R}^D$\n",
    "***\n",
    "\n",
    "It was stated in the lecture that the VC Dimension of a linear classifier with data in $\\mathbb{R}^D$ is $D+1$.  In this problem you will prove this result, first by proving that there exists a set of $D+1$ points that can be shattered, and then by proving that there does not exist a set of $D+2$ points that can be shattered. \n",
    "\n",
    "The general form of our classifier is $h_{\\bf w}({\\bf x}) = I_{{\\bf w}^T{\\bf x} \\geq 0}$, i.e. $h_{\\bf w}$ classifies an example ${\\bf x}$ as positive if ${\\bf w}^T{\\bf x} \\geq 0$ and negative otherwise. Note that here we have (as usual) prepended the ${\\bf x}$ vector with a $1$ corresponding to the bias term.  Thus both ${\\bf w}$ and ${\\bf x}$ live in $\\mathbb{R}^{D+1}$.  We'll assume that our labels are $y_i \\in \\{1,-1\\}$ corresponding to ${\\bf w}^T{\\bf x} \\geq 0$ and ${\\bf w}^T{\\bf x} < 0$, respectively. \n",
    "\n",
    "**Q**: In the first step, we want to show that there exists $D+1$ vectors ${\\bf x}_i$ such that $\\textrm{sign}({\\bf w}^T{\\bf x_i}) = y_i$ for any labeling of $y_i$.  Argue that we can test the suitability of a proposed set of $D+1$ vectors by an equivalent matrix equation of the form $X{\\bf w} = {\\bf y}$.   "
   ]
  },
  {
   "cell_type": "markdown",
   "metadata": {},
   "source": [
    "**Q**: Find a suitable set of points ${\\bf x}_1, \\ldots, {\\bf x}_{D+1}$ that can be shattered. "
   ]
  },
  {
   "cell_type": "markdown",
   "metadata": {},
   "source": [
    "**Q**: Show that there does not exist a set of $D+2$ points in $\\mathbb{R}^D$ that a linear classifier can shatter. "
   ]
  },
  {
   "cell_type": "markdown",
   "metadata": {},
   "source": [
    "<br><br><br><br>\n",
    "<br><br><br><br>\n",
    "<br><br><br><br>\n",
    "\n",
    "### Helper Functions\n",
    "***"
   ]
  },
  {
   "cell_type": "code",
   "execution_count": 1,
   "metadata": {},
   "outputs": [
    {
     "data": {
      "text/html": [
       "\n",
       "<style>\n",
       ".MathJax nobr>span.math>span{border-left-width:0 !important};\n",
       "</style>\n"
      ],
      "text/plain": [
       "<IPython.core.display.HTML object>"
      ]
     },
     "execution_count": 1,
     "metadata": {},
     "output_type": "execute_result"
    }
   ],
   "source": [
    "from IPython.core.display import HTML\n",
    "HTML(\"\"\"\n",
    "<style>\n",
    ".MathJax nobr>span.math>span{border-left-width:0 !important};\n",
    "</style>\n",
    "\"\"\")"
   ]
  },
  {
   "cell_type": "code",
   "execution_count": null,
   "metadata": {
    "collapsed": true
   },
   "outputs": [],
   "source": []
  }
 ],
 "metadata": {
  "kernelspec": {
   "display_name": "Python 3",
   "language": "python",
   "name": "python3"
  },
  "language_info": {
   "codemirror_mode": {
    "name": "ipython",
    "version": 3
   },
   "file_extension": ".py",
   "mimetype": "text/x-python",
   "name": "python",
   "nbconvert_exporter": "python",
   "pygments_lexer": "ipython3",
   "version": "3.6.3"
  }
 },
 "nbformat": 4,
 "nbformat_minor": 1
}
